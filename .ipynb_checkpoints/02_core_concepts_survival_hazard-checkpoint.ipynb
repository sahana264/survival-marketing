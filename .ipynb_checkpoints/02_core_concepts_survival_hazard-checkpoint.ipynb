{
 "cells": [
  {
   "cell_type": "markdown",
   "id": "5dc2af33",
   "metadata": {},
   "source": [
    "# Notebook 2 - Core Concepts of Time-to-Event Analysis in Marketing\n",
    "\n",
    "---\n",
    "\n",
    "## 1. Why this notebook?\n",
    "\n",
    "In the last notebook, we saw why **time-to-event** analysis fits marketing better than a simple classification yes/no model. \n",
    "Now, we'll formalise the key quantities - **Survival**, **Hazard**, **Cumulative Hazard** - and show how they look for real data.\n",
    "\n",
    "---\n",
    "\n",
    "## 2. Data Setup\n",
    "\n",
    "\n",
    "For each customer $(i=1,\\dots,n)$:\n",
    "\n",
    "$$\n",
    "T_i^{\\mathrm{true}} = \\text{actual time to event}, \\qquad\n",
    "C_i = \\text{censoring time}, \\qquad\n",
    "T_i = \\min(T_i^{\\mathrm{true}}, C_i), \\qquad\n",
    "\\delta_i =\n",
    "\\begin{cases}\n",
    "1 & \\text{if event observed (}T_i^{\\mathrm{true}}\\le C_i\\text{)}\\\\\n",
    "0 & \\text{if censored (still active when we stopped).}\n",
    "\\end{cases}\n",
    "$$\n"
   ]
  }
 ],
 "metadata": {
  "language_info": {
   "name": "python"
  }
 },
 "nbformat": 4,
 "nbformat_minor": 5
}
